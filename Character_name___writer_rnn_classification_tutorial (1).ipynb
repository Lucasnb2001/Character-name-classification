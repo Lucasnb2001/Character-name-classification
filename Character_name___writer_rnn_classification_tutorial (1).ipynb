{
  "cells": [
    {
      "cell_type": "markdown",
      "metadata": {},
      "source": [
        "Introdução a Aprendizagem Profunda - IF867\n",
        "# Exercício RNN I\n",
        "\n",
        "### Equipe:\n",
        "> Igor Domingos da Rocha e Silva (idrs)\n",
        "\n",
        "> Lucas Nascimento Brandão (lnb)\n",
        "\n",
        "> Matheus Isidoro Gomes Batista (migb)"
      ]
    },
    {
      "cell_type": "code",
      "execution_count": 421,
      "metadata": {
        "id": "Ijnjyx2nWa0N"
      },
      "outputs": [],
      "source": [
        "# For tips on running notebooks in Google Colab, see\n",
        "# https://pytorch.org/tutorials/beginner/colab\n",
        "%matplotlib inline"
      ]
    },
    {
      "cell_type": "code",
      "execution_count": 422,
      "metadata": {
        "colab": {
          "base_uri": "https://localhost:8080/"
        },
        "id": "n99P3JZzZc_f",
        "outputId": "16ab9831-d6da-4dd5-ce61-8db8cafba6c5"
      },
      "outputs": [
        {
          "name": "stdout",
          "output_type": "stream",
          "text": [
            "Drive already mounted at /content/drive; to attempt to forcibly remount, call drive.mount(\"/content/drive\", force_remount=True).\n"
          ]
        }
      ],
      "source": [
        "from google.colab import drive\n",
        "drive.mount('/content/drive')"
      ]
    },
    {
      "cell_type": "markdown",
      "metadata": {
        "id": "e7Jen2gpWa0P"
      },
      "source": [
        "\n",
        "# Classificação de nomes de personagens Character-Level RNN\n",
        "Baseado no trabalho do **Autor**: [Sean Robertson](https://github.com/spro)\n",
        "\n",
        "Nós estaremos desenvolvendo um modelo de Redes Neurais Recorrentes para classificação de nomes de personagens de ficção. Dado um nome estamos interessados em saber qual é o autor que aquele personagem pertençe.\n",
        "Exemplo: Dado Aslam (personagem de Crônicas de Nárnia), queremos a saída: C.S. Lewis (autor de Crônicas de Nárnia)"
      ]
    },
    {
      "cell_type": "code",
      "execution_count": 423,
      "metadata": {
        "colab": {
          "base_uri": "https://localhost:8080/"
        },
        "id": "0vFFZng5Wa0R",
        "outputId": "a0244d31-13fd-4fc5-a0d0-0a40a625e799"
      },
      "outputs": [
        {
          "name": "stdout",
          "output_type": "stream",
          "text": [
            "['/content/drive/MyDrive/dl/data/book/Jane Austen.txt', '/content/drive/MyDrive/dl/data/book/George Orwell.txt', '/content/drive/MyDrive/dl/data/book/C.S. Lewis.txt', '/content/drive/MyDrive/dl/data/book/J.K. Rowling.txt', '/content/drive/MyDrive/dl/data/book/Agatha Christie.txt', '/content/drive/MyDrive/dl/data/book/J.R.R. Tolkien.txt', '/content/drive/MyDrive/dl/data/book/Leo Tolstoy.txt', '/content/drive/MyDrive/dl/data/book/Fiódor Dostoiévski.txt']\n",
            "Slusarski\n"
          ]
        }
      ],
      "source": [
        "from io import open\n",
        "import glob\n",
        "import os\n",
        "\n",
        "def findFiles(path): return glob.glob(path)\n",
        "\n",
        "print(findFiles('/content/drive/MyDrive/dl/data/book/*.txt'))\n",
        "\n",
        "import unicodedata\n",
        "import string\n",
        "\n",
        "all_letters = string.ascii_letters + \" .,;'\"\n",
        "n_letters = len(all_letters)\n",
        "\n",
        "# Converter uma string Unicode em ASCII simples, graças a https://stackoverflow.com/a/518232/2809427\n",
        "def unicodeToAscii(s):\n",
        "    return ''.join(\n",
        "        c for c in unicodedata.normalize('NFD', s)\n",
        "        if unicodedata.category(c) != 'Mn'\n",
        "        and c in all_letters\n",
        "    )\n",
        "\n",
        "print(unicodeToAscii('Ślusàrski'))\n",
        "\n",
        "# Construir o dicionário category_lines, uma lista de personagens por autor\n",
        "category_lines = {}\n",
        "all_categories = []\n",
        "\n",
        "# Ler um arquivo e dividi-lo em linhas\n",
        "def readLines(filename):\n",
        "    lines = open(filename, encoding='utf-8').read().strip().split('\\n')\n",
        "    return [unicodeToAscii(line) for line in lines]\n",
        "\n",
        "for filename in findFiles('/content/drive/MyDrive/dl/data/book/*.txt'):\n",
        "    category = os.path.splitext(os.path.basename(filename))[0]\n",
        "    all_categories.append(category)\n",
        "    lines = readLines(filename)\n",
        "    category_lines[category] = lines\n",
        "\n",
        "n_categories = len(all_categories)"
      ]
    },
    {
      "cell_type": "code",
      "execution_count": 425,
      "metadata": {
        "colab": {
          "base_uri": "https://localhost:8080/",
          "height": 36
        },
        "id": "Uh5KzHtze61T",
        "outputId": "a3fac143-f69c-4d4b-e949-86d11126674b"
      },
      "outputs": [
        {
          "data": {
            "application/vnd.google.colaboratory.intrinsic+json": {
              "type": "string"
            },
            "text/plain": [
              "'Aslan'"
            ]
          },
          "execution_count": 425,
          "metadata": {},
          "output_type": "execute_result"
        }
      ],
      "source": [
        "#lista de personagens por autor\n",
        "category_lines['C.S. Lewis'][0]"
      ]
    },
    {
      "cell_type": "code",
      "execution_count": 424,
      "metadata": {
        "colab": {
          "base_uri": "https://localhost:8080/"
        },
        "id": "ywPHg5iCewV3",
        "outputId": "17e34e2b-4ddf-4632-d120-270b642c1277"
      },
      "outputs": [
        {
          "data": {
            "text/plain": [
              "['Jane Austen',\n",
              " 'George Orwell',\n",
              " 'C.S. Lewis',\n",
              " 'J.K. Rowling',\n",
              " 'Agatha Christie',\n",
              " 'J.R.R. Tolkien',\n",
              " 'Leo Tolstoy',\n",
              " 'Fiódor Dostoiévski']"
            ]
          },
          "execution_count": 424,
          "metadata": {},
          "output_type": "execute_result"
        }
      ],
      "source": [
        "all_categories"
      ]
    },
    {
      "cell_type": "code",
      "execution_count": 426,
      "metadata": {
        "id": "-OwwcN5N7Jnt"
      },
      "outputs": [],
      "source": [
        "#número de autores\n",
        "n_categories\n",
        "\n",
        "contagens = []\n",
        "for i in range(n_categories):\n",
        "  contagens.append(len(category_lines[all_categories[i]]))\n"
      ]
    },
    {
      "cell_type": "code",
      "execution_count": 427,
      "metadata": {
        "colab": {
          "base_uri": "https://localhost:8080/"
        },
        "id": "lhK8B3vPUrLw",
        "outputId": "15e9b445-036a-40ce-c740-0b4c6cb4db48"
      },
      "outputs": [
        {
          "data": {
            "text/plain": [
              "[83, 55, 100, 100, 63, 78, 84, 103]"
            ]
          },
          "execution_count": 427,
          "metadata": {},
          "output_type": "execute_result"
        }
      ],
      "source": [
        "#contagens de nomes de personagem por autor\n",
        "contagens"
      ]
    },
    {
      "cell_type": "code",
      "execution_count": 428,
      "metadata": {
        "colab": {
          "base_uri": "https://localhost:8080/",
          "height": 607
        },
        "id": "8qk4yadcUNHa",
        "outputId": "0b93f277-2101-4ec4-c863-20b7f1b233b6"
      },
      "outputs": [
        {
          "data": {
            "image/png": "[encoded data removed]",
            "text/plain": [
              "<Figure size 1000x600 with 1 Axes>"
            ]
          },
          "metadata": {},
          "output_type": "display_data"
        }
      ],
      "source": [
        "import matplotlib.pyplot as plt\n",
        "classes = all_categories\n",
        "\n",
        "# Cria um gráfico de barras\n",
        "plt.figure(figsize=(10, 6))  # Define o tamanho do gráfico\n",
        "plt.bar(classes, contagens, color='skyblue')  # Cria o gráfico de barras com os autores e personagens\n",
        "plt.xlabel('Autores')  # Rótulo do eixo X\n",
        "plt.ylabel('Nomes de personagens')  # Rótulo do eixo Y\n",
        "plt.title('Distribuição das Classes no Dataset Original')  # Título do gráfico\n",
        "\n",
        "# Mostra o gráfico\n",
        "plt.xticks(rotation=45)  # Rotação dos rótulos das classes para melhor visualização\n",
        "plt.tight_layout()  # Garante que os rótulos e barras não fiquem cortados\n",
        "plt.show()\n"
      ]
    },
    {
      "cell_type": "markdown",
      "metadata": {
        "id": "VpHuesg0Wa0R"
      },
      "source": [
        "Agora temos  ``category_lines``, um dicionário que mapeia cada categoria\n",
        "(autor) para uma lista de linhas (nomes). Também mantivemos o controle de\n",
        "``all_categories`` (apenas uma lista de autores) e  ``n_categories`` (número de autores) para\n",
        "referência posterior.\n",
        "\n",
        "\n"
      ]
    },
    {
      "cell_type": "code",
      "execution_count": 429,
      "metadata": {
        "colab": {
          "base_uri": "https://localhost:8080/"
        },
        "id": "th6sbdMkWa0S",
        "outputId": "a5693127-1a3d-40cd-9f45-c642ec6bc8ed"
      },
      "outputs": [
        {
          "name": "stdout",
          "output_type": "stream",
          "text": [
            "['Elizabeth Bennet', 'Mr. Darcy ', 'Fitzwilliam Darcy', 'Mr. Bennet', 'Mrs. Bennet']\n"
          ]
        }
      ],
      "source": [
        "print(category_lines['Jane Austen'][:5])"
      ]
    },
    {
      "cell_type": "markdown",
      "metadata": {
        "id": "Frine6R6Wa0S"
      },
      "source": [
        "### Transformando Nomes em Tensores\n",
        "\n",
        "Agora que temos todos os nomes organizados, precisamos convertê-los em Tensores para fazer qualquer uso deles.\n",
        "\n",
        "Para representar uma única letra, usamos um \"vetor one-hot\" de tamanho\n",
        "``<1 x n_letters>``. Um vetor one-hot é preenchido com 0s, exceto por um 1\n",
        "no índice da letra atual, por exemplo, ``\"b\" = <0 1 0 0 0 ...>``.\n",
        "\n",
        "Para formar uma palavra, juntamos um monte desses em uma matriz 2D\n",
        "``<line_length x 1 x n_letters>``.\n",
        "\n",
        "Essa dimensão extra existe porque o PyTorch assume que tudo está em\n",
        "lotes - estamos apenas usando um tamanho de lote de 1 aqui.\n",
        "\n",
        "\n"
      ]
    },
    {
      "cell_type": "code",
      "execution_count": 430,
      "metadata": {
        "colab": {
          "base_uri": "https://localhost:8080/"
        },
        "id": "vs5D_uSYfywh",
        "outputId": "9e41312b-ffe5-4761-eb98-acc0a53cf4f6"
      },
      "outputs": [
        {
          "data": {
            "text/plain": [
              "57"
            ]
          },
          "execution_count": 430,
          "metadata": {},
          "output_type": "execute_result"
        }
      ],
      "source": [
        "len(all_letters)"
      ]
    },
    {
      "cell_type": "code",
      "execution_count": 431,
      "metadata": {
        "colab": {
          "base_uri": "https://localhost:8080/"
        },
        "id": "MNKj4-bgWa0S",
        "outputId": "1d1aa9a4-0cfd-4fd1-bdf2-942041571b32"
      },
      "outputs": [
        {
          "name": "stdout",
          "output_type": "stream",
          "text": [
            "tensor([[0., 0., 0., 0., 0., 0., 0., 0., 0., 0., 0., 0., 0., 0., 0., 0., 0., 0.,\n",
            "         0., 0., 0., 0., 0., 0., 0., 0., 0., 0., 0., 0., 1., 0., 0., 0., 0., 0.,\n",
            "         0., 0., 0., 0., 0., 0., 0., 0., 0., 0., 0., 0., 0., 0., 0., 0., 0., 0.,\n",
            "         0., 0., 0.]])\n",
            "torch.Size([16, 1, 57])\n"
          ]
        }
      ],
      "source": [
        "import torch\n",
        "\n",
        "# Find letter index from all_letters, e.g. \"a\" = 0\n",
        "def letterToIndex(letter):\n",
        "    return all_letters.find(letter)\n",
        "\n",
        "# Just for demonstration, turn a letter into a <1 x n_letters> Tensor\n",
        "def letterToTensor(letter):\n",
        "    tensor = torch.zeros(1, n_letters)\n",
        "    tensor[0][letterToIndex(letter)] = 1\n",
        "    return tensor\n",
        "\n",
        "# Turn a line into a <line_length x 1 x n_letters>,\n",
        "# or an array of one-hot letter vectors\n",
        "def lineToTensor(line):\n",
        "    tensor = torch.zeros(len(line), 1, n_letters)\n",
        "    for li, letter in enumerate(line):\n",
        "        tensor[li][0][letterToIndex(letter)] = 1\n",
        "    return tensor\n",
        "\n",
        "print(letterToTensor('E'))\n",
        "\n",
        "print(lineToTensor('Elizabeth Bennet').size())"
      ]
    },
    {
      "cell_type": "markdown",
      "metadata": {
        "id": "F-QC3AQEWa0T"
      },
      "source": [
        "## Criando a Rede\n",
        "\n",
        "Este módulo RNN (em grande parte copiado do [tutorial do PyTorch para usuários do Torch](https://pytorch.org/tutorials/beginner/former_torchies/\n",
        "nn_tutorial.html#example-2-recurrent-net))\n",
        "consiste apenas em 2 camadas lineares que operam em uma entrada e estado oculto, com\n",
        "uma camada ``LogSoftmax`` após a saída.\n",
        "\n",
        "\n"
      ]
    },
    {
      "cell_type": "code",
      "execution_count": 432,
      "metadata": {
        "id": "RbT5XwZ3Wa0T"
      },
      "outputs": [],
      "source": [
        "import torch.nn as nn\n",
        "\n",
        "class RNN(nn.Module):\n",
        "    def __init__(self, input_size, hidden_size, output_size):\n",
        "        super(RNN, self).__init__()\n",
        "\n",
        "        self.hidden_size = hidden_size\n",
        "\n",
        "        self.i2h = nn.Linear(input_size + hidden_size, hidden_size)\n",
        "        self.h2o = nn.Linear(hidden_size, output_size)\n",
        "        self.softmax = nn.LogSoftmax(dim=1)\n",
        "\n",
        "    def forward(self, input, hidden):\n",
        "        combined = torch.cat((input, hidden), 1)\n",
        "        hidden = self.i2h(combined)\n",
        "        output = self.h2o(hidden)\n",
        "        output = self.softmax(output)\n",
        "        return output, hidden\n",
        "\n",
        "    def initHidden(self):\n",
        "        return torch.zeros(1, self.hidden_size)\n",
        "\n",
        "n_hidden = 128\n",
        "rnn = RNN(n_letters, n_hidden, n_categories)"
      ]
    },
    {
      "cell_type": "markdown",
      "metadata": {
        "id": "jGi3ACgsWa0T"
      },
      "source": [
        "Para executar um passo desta rede, precisamos passar uma entrada (no nosso caso, o\n",
        "Tensor para a letra atual) e um estado oculto anterior (que inicializamos como zeros no início). Obteremos a saída (probabilidade de\n",
        "cada idioma) e um próximo estado oculto (que manteremos para o próximo\n",
        "passo).\n"
      ]
    },
    {
      "cell_type": "code",
      "execution_count": 433,
      "metadata": {
        "id": "Jtgg-bqkWa0U"
      },
      "outputs": [],
      "source": [
        "input = letterToTensor('A')\n",
        "hidden = torch.zeros(1, n_hidden)\n",
        "\n",
        "output, next_hidden = rnn(input, hidden)"
      ]
    },
    {
      "cell_type": "code",
      "execution_count": 435,
      "metadata": {
        "colab": {
          "base_uri": "https://localhost:8080/",
          "height": 36
        },
        "id": "rkXkB0d-l7qn",
        "outputId": "f38f8bea-aa77-4608-9e56-fd7e493f3c1f"
      },
      "outputs": [
        {
          "data": {
            "application/vnd.google.colaboratory.intrinsic+json": {
              "type": "string"
            },
            "text/plain": [
              "'Mr. Darcy '"
            ]
          },
          "execution_count": 435,
          "metadata": {},
          "output_type": "execute_result"
        }
      ],
      "source": [
        "category_lines[all_categories[0]][1]"
      ]
    },
    {
      "cell_type": "markdown",
      "metadata": {
        "id": "RrZkeZS9Wa0U"
      },
      "source": [
        "Por uma questão de eficiência, não queremos criar um novo Tensor\n",
        "para cada etapa, então vamos usar  ``lineToTensor`` ao invés de\n",
        "``letterToTensor``.\n",
        "\n",
        "\n"
      ]
    },
    {
      "cell_type": "code",
      "execution_count": 436,
      "metadata": {
        "colab": {
          "base_uri": "https://localhost:8080/"
        },
        "id": "DjBwuPSOWa0U",
        "outputId": "43d09999-c36e-441a-ad76-e6b3dd82a29b"
      },
      "outputs": [
        {
          "name": "stdout",
          "output_type": "stream",
          "text": [
            "tensor([[-2.0429, -2.1144, -2.1362, -1.9784, -2.0831, -2.2079, -2.0784, -2.0126]],\n",
            "       grad_fn=<LogSoftmaxBackward0>)\n"
          ]
        }
      ],
      "source": [
        "input = lineToTensor('Mr. Darcy')\n",
        "hidden = torch.zeros(1, n_hidden)\n",
        "\n",
        "output, next_hidden = rnn(input[0], hidden)\n",
        "print(output)"
      ]
    },
    {
      "cell_type": "markdown",
      "metadata": {
        "id": "pvLhiQ0sWa0U"
      },
      "source": [
        "Como você pode ver, a saída é um Tensor ``<1 x n_categories>`` onde\n",
        "cada item é a probabilidade dessa categoria (quanto maior, mais provável).\n",
        "\n"
      ]
    },
    {
      "cell_type": "markdown",
      "metadata": {
        "id": "ANT80m6lWa0U"
      },
      "source": [
        "## Treinamento\n",
        "Preparando para treinamento\n",
        "----------------------\n",
        "\n",
        "Antes de iniciar o treinamento, devemos criar algumas funções auxiliares. A\n",
        "primeira é para interpretar a saída da rede, que sabemos ser uma\n",
        "probabilidade de cada categoria. Podemos usar ``Tensor.topk`` para obter o índice\n",
        "do maior valor:\n",
        "\n",
        "\n"
      ]
    },
    {
      "cell_type": "code",
      "execution_count": 437,
      "metadata": {
        "colab": {
          "base_uri": "https://localhost:8080/"
        },
        "id": "dRReRsBXWa0U",
        "outputId": "03793e9d-13cb-41d9-9bdf-04ef78418b32"
      },
      "outputs": [
        {
          "name": "stdout",
          "output_type": "stream",
          "text": [
            "('J.K. Rowling', 3)\n"
          ]
        }
      ],
      "source": [
        "def categoryFromOutput(output):\n",
        "    top_n, top_i = output.topk(1)\n",
        "    category_i = top_i[0].item()\n",
        "    return all_categories[category_i], category_i\n",
        "\n",
        "print(categoryFromOutput(output))"
      ]
    },
    {
      "cell_type": "code",
      "execution_count": 438,
      "metadata": {
        "colab": {
          "base_uri": "https://localhost:8080/"
        },
        "id": "Yg8sbGRFmQzI",
        "outputId": "55dbbc02-21d3-4cec-ab33-5693f89688d7"
      },
      "outputs": [
        {
          "name": "stdout",
          "output_type": "stream",
          "text": [
            "Correct:\n",
            "666\n",
            "Prediction:\n",
            "666\n"
          ]
        }
      ],
      "source": [
        "\n",
        "CorrectOutput = []\n",
        "PredictionOutput = []\n",
        "for i in range(len(all_categories)):\n",
        "  #print(i)\n",
        "  for j in range(len(category_lines[all_categories[i]])):\n",
        "    input = lineToTensor(category_lines[all_categories[i]][j])\n",
        "    CorrectOutput.append(i)\n",
        "    hidden = torch.zeros(1, n_hidden)\n",
        "    output, next_hidden = rnn(input[0], hidden)\n",
        "    #print(output)\n",
        "    autor, numberPred = categoryFromOutput(output)\n",
        "    PredictionOutput.append(numberPred)\n",
        "print('Correct:')\n",
        "print(len(CorrectOutput))\n",
        "print('Prediction:')\n",
        "print(len(PredictionOutput))\n"
      ]
    },
    {
      "cell_type": "markdown",
      "metadata": {
        "id": "Aa5Pv9irWa0U"
      },
      "source": [
        "Também vamos querer uma maneira rápida de obter um exemplo de treinamento (um nome e seu\n",
        "autor):"
      ]
    },
    {
      "cell_type": "code",
      "execution_count": 439,
      "metadata": {
        "colab": {
          "base_uri": "https://localhost:8080/"
        },
        "id": "1EqLuQ-3Wa0U",
        "outputId": "f0be1df1-46d9-4522-b08e-1ef4dd1a876c"
      },
      "outputs": [
        {
          "name": "stdout",
          "output_type": "stream",
          "text": [
            "category = Jane Austen / line = Fitzwilliam Darcy\n",
            "category = C.S. Lewis / line = Blackbrow\n",
            "category = Agatha Christie / line = Miss Emily Trefusis\n",
            "category = Jane Austen / line = Maria Bertram\n",
            "category = J.K. Rowling / line = Ghoul\n",
            "category = Agatha Christie / line = Hildegarde Schmidt\n",
            "category = George Orwell / line = Katharine\n",
            "category = George Orwell / line = Rutherford\n",
            "category = Agatha Christie / line = Cornelia Robson\n",
            "category = George Orwell / line = Jones\n"
          ]
        }
      ],
      "source": [
        "import random\n",
        "\n",
        "def randomChoice(l):\n",
        "    return l[random.randint(0, len(l) - 1)]\n",
        "\n",
        "def randomTrainingExample():\n",
        "    category = randomChoice(all_categories)\n",
        "    line = randomChoice(category_lines[category])\n",
        "    category_tensor = torch.tensor([all_categories.index(category)], dtype=torch.long)\n",
        "    line_tensor = lineToTensor(line)\n",
        "    return category, line, category_tensor, line_tensor\n",
        "\n",
        "for i in range(10):\n",
        "    category, line, category_tensor, line_tensor = randomTrainingExample()\n",
        "    print('category =', category, '/ line =', line)\n",
        "    #print('category =', category_tensor, '/ line =', line_tensor)"
      ]
    },
    {
      "cell_type": "markdown",
      "metadata": {
        "id": "K92ZEAXqWa0V"
      },
      "source": [
        "### Treinando a rede\n",
        "\n",
        "para a função de perda ``nn.NLLLoss`` é apropriada, uma vez que a última camada da RNN é ``nn.LogSoftmax``.\n",
        "\n",
        "\n"
      ]
    },
    {
      "cell_type": "code",
      "execution_count": 440,
      "metadata": {
        "id": "0LB1uEWJWa0V"
      },
      "outputs": [],
      "source": [
        "criterion = nn.NLLLoss()"
      ]
    },
    {
      "cell_type": "markdown",
      "metadata": {
        "id": "SofVEjTlWa0V"
      },
      "source": [
        "Cada ciclo de treinamento fará o seguinte:\n",
        "\n",
        "- Criar tensores de entrada e alvo.\n",
        "\n",
        "- Criar um estado oculto inicial zerado.\n",
        "\n",
        "- Ler cada letra e\n",
        "\n",
        "- Manter o estado oculto para a próxima letra.\n",
        "\n",
        "- Comparar a saída final com o alvo.\n",
        "\n",
        "- Retropropagar o erro.\n",
        "\n",
        "- Retornar a saída e a perda.\n",
        "\n",
        "\n"
      ]
    },
    {
      "cell_type": "code",
      "execution_count": 441,
      "metadata": {
        "id": "6svBy03bWa0V"
      },
      "outputs": [],
      "source": [
        "learning_rate = 0.005\n",
        "\n",
        "def train(category_tensor, line_tensor):\n",
        "    hidden = rnn.initHidden()\n",
        "\n",
        "    rnn.zero_grad()\n",
        "\n",
        "    for i in range(line_tensor.size()[0]):\n",
        "        output, hidden = rnn(line_tensor[i], hidden)\n",
        "\n",
        "    loss = criterion(output, category_tensor)\n",
        "    loss.backward()\n",
        "\n",
        "    for p in rnn.parameters():\n",
        "        p.data.add_(p.grad.data, alpha=-learning_rate)\n",
        "\n",
        "    return output, loss.item()"
      ]
    },
    {
      "cell_type": "code",
      "execution_count": 442,
      "metadata": {
        "colab": {
          "base_uri": "https://localhost:8080/"
        },
        "id": "AqRf8KRDzPf1",
        "outputId": "33555f17-2031-4cd5-d8cb-7139b61f2b31"
      },
      "outputs": [
        {
          "name": "stdout",
          "output_type": "stream",
          "text": [
            "Output = tensor([[-2.0113, -2.0692, -2.0848, -2.0533, -2.0704, -2.2297, -2.1127, -2.0200]],\n",
            "       grad_fn=<LogSoftmaxBackward0>) / loss = 2.1126720905303955\n",
            "Output = tensor([[-2.0812, -2.0799, -2.1046, -1.9910, -2.0725, -2.2331, -2.0717, -2.0190]],\n",
            "       grad_fn=<LogSoftmaxBackward0>) / loss = 2.0725257396698\n",
            "Output = tensor([[-2.0315, -2.1267, -2.1037, -2.0168, -2.0780, -2.1968, -2.0906, -2.0055]],\n",
            "       grad_fn=<LogSoftmaxBackward0>) / loss = 2.0314531326293945\n",
            "Output = tensor([[-2.0257, -2.1289, -2.1139, -2.0017, -2.0906, -2.1947, -2.0675, -2.0268]],\n",
            "       grad_fn=<LogSoftmaxBackward0>) / loss = 2.0256571769714355\n",
            "Output = tensor([[-2.0468, -2.0505, -2.1025, -2.0054, -2.0611, -2.2482, -2.1095, -2.0309]],\n",
            "       grad_fn=<LogSoftmaxBackward0>) / loss = 2.102466583251953\n",
            "Output = tensor([[-2.0566, -2.0625, -2.0800, -2.0117, -2.0687, -2.2557, -2.0965, -2.0231]],\n",
            "       grad_fn=<LogSoftmaxBackward0>) / loss = 2.0565710067749023\n",
            "Output = tensor([[-2.0331, -2.0926, -2.1323, -2.0276, -2.0892, -2.2179, -2.0739, -1.9865]],\n",
            "       grad_fn=<LogSoftmaxBackward0>) / loss = 2.027581214904785\n",
            "Output = tensor([[-2.0004, -2.1053, -2.0964, -2.0379, -2.0844, -2.2171, -2.1017, -2.0088]],\n",
            "       grad_fn=<LogSoftmaxBackward0>) / loss = 2.084352493286133\n",
            "Output = tensor([[-1.9905, -2.1248, -2.1133, -1.9961, -2.1136, -2.1863, -2.0872, -2.0398]],\n",
            "       grad_fn=<LogSoftmaxBackward0>) / loss = 2.113645315170288\n",
            "Output = tensor([[-1.9831, -2.0664, -2.0942, -2.0524, -2.0608, -2.2078, -2.1075, -2.0771]],\n",
            "       grad_fn=<LogSoftmaxBackward0>) / loss = 2.052422523498535\n"
          ]
        }
      ],
      "source": [
        "for i in range(10):\n",
        "    category, line, category_tensor, line_tensor = randomTrainingExample()\n",
        "    output, loss = train(category_tensor, line_tensor)\n",
        "    print('Output =', output, '/ loss =', loss)"
      ]
    },
    {
      "cell_type": "markdown",
      "metadata": {
        "id": "LR8fiiJIWa0V"
      },
      "source": [
        "Como a função ``train`` etorna tanto a saída quanto a perda, podemos imprimir suas\n",
        "suposições e também acompanhar a perda para a plotagem. Como há milhares de\n",
        "exemplos, imprimimos apenas a cada ``print_every``  exemplos e fazemos uma média da perda.\n",
        "\n",
        "\n"
      ]
    },
    {
      "cell_type": "code",
      "execution_count": 443,
      "metadata": {
        "colab": {
          "base_uri": "https://localhost:8080/"
        },
        "id": "DkkJs1YRWa0V",
        "outputId": "e0381a1e-3fa4-48ad-d0ec-0d3b5353eaa4"
      },
      "outputs": [
        {
          "name": "stdout",
          "output_type": "stream",
          "text": [
            "1000 10% (0m 2s) 2.0026 Maria Dmitrievna Akhrosimova / George Orwell ✗ (Leo Tolstoy)\n",
            "PredictionOutput = 1 / CorrectOutput = 6\n",
            "2000 20% (0m 4s) 1.9735 Rosalie Otterbourne / J.K. Rowling ✗ (Agatha Christie)\n",
            "PredictionOutput = 3 / CorrectOutput = 4\n",
            "3000 30% (0m 6s) 2.3999 Galadriel / Jane Austen ✗ (J.R.R. Tolkien)\n",
            "PredictionOutput = 0 / CorrectOutput = 5\n",
            "4000 40% (0m 9s) 1.8066 Mermaid / Leo Tolstoy ✗ (J.K. Rowling)\n",
            "PredictionOutput = 6 / CorrectOutput = 3\n",
            "5000 50% (0m 11s) 0.8565 Ivan Ptitsyn  / Fiódor Dostoiévski ✓\n",
            "PredictionOutput = 7 / CorrectOutput = 7\n",
            "6000 60% (0m 13s) 1.7775 Ginarrbrik / George Orwell ✗ (C.S. Lewis)\n",
            "PredictionOutput = 1 / CorrectOutput = 2\n",
            "7000 70% (0m 15s) 1.5016 Windstripe / C.S. Lewis ✓\n",
            "PredictionOutput = 2 / CorrectOutput = 2\n",
            "8000 80% (0m 18s) 1.6761 Tommy Beresford / J.K. Rowling ✗ (Agatha Christie)\n",
            "PredictionOutput = 3 / CorrectOutput = 4\n",
            "9000 90% (0m 20s) 0.4217 Prince Pyotr Pierre Kirillovich Bezukhov / Leo Tolstoy ✓\n",
            "PredictionOutput = 6 / CorrectOutput = 6\n",
            "10000 100% (0m 22s) 0.2125 Maria Ilyinichna Peronskaya / Leo Tolstoy ✓\n",
            "PredictionOutput = 6 / CorrectOutput = 6\n"
          ]
        }
      ],
      "source": [
        "import time\n",
        "import math\n",
        "\n",
        "n_iters = 10000\n",
        "print_every = 1000\n",
        "plot_every = 1000\n",
        "CorrectOutput = []\n",
        "PredictionOutput = []\n",
        "\n",
        "\n",
        "# Acompanhar as perdas para a plotagem.\n",
        "current_loss = 0\n",
        "all_losses = []\n",
        "\n",
        "def timeSince(since):\n",
        "    now = time.time()\n",
        "    s = now - since\n",
        "    m = math.floor(s / 60)\n",
        "    s -= m * 60\n",
        "    return '%dm %ds' % (m, s)\n",
        "\n",
        "start = time.time()\n",
        "\n",
        "for iter in range(1, n_iters + 1):\n",
        "    category, line, category_tensor, line_tensor = randomTrainingExample()\n",
        "    output, loss = train(category_tensor, line_tensor)\n",
        "    current_loss += float(loss)\n",
        "\n",
        "    for indice, palavra in enumerate(all_categories):\n",
        "      if palavra == category:\n",
        "        correct_i = indice\n",
        "\n",
        "\n",
        "    guess, guess_i = categoryFromOutput(output)\n",
        "    PredictionOutput.append(guess_i)\n",
        "    CorrectOutput.append(correct_i)\n",
        "    #print('PredictionOutput =', PredictionOutput, '/ CorrectOutput =', CorrectOutput)\n",
        "\n",
        "    # Print ``iter`` number, loss, name and guess\n",
        "    if iter % print_every == 0:\n",
        "        guess, guess_i = categoryFromOutput(output)\n",
        "        correct = '✓' if guess == category else '✗ (%s)' % category\n",
        "        PredictionOutput.append(guess_i)\n",
        "        CorrectOutput.append(correct_i)\n",
        "        print('%d %d%% (%s) %.4f %s / %s %s' % (iter, iter / n_iters * 100, timeSince(start), loss, line, guess, correct))\n",
        "        print('PredictionOutput =', guess_i, '/ CorrectOutput =', correct_i)\n",
        "\n",
        "    # Adicionar a média da perda atual à lista de perdas.\n",
        "    if iter % plot_every == 0:\n",
        "        all_losses.append(current_loss / plot_every)\n",
        "        current_loss = 0"
      ]
    },
    {
      "cell_type": "markdown",
      "metadata": {
        "id": "sK9SuGJhWa0V"
      },
      "source": [
        "### Plotando os resultados\n",
        "\n",
        "Traçar a perda histórica de ``all_losses`` mostra o aprendizado da rede:\n"
      ]
    },
    {
      "cell_type": "code",
      "execution_count": 444,
      "metadata": {
        "colab": {
          "base_uri": "https://localhost:8080/",
          "height": 447
        },
        "id": "sTBOvmy6Wa0V",
        "outputId": "4fd58496-d395-41b9-ef60-333f0eb99ab4"
      },
      "outputs": [
        {
          "data": {
            "text/plain": [
              "[<matplotlib.lines.Line2D at 0x7b79c3dc5810>]"
            ]
          },
          "execution_count": 444,
          "metadata": {},
          "output_type": "execute_result"
        },
        {
          "data": {
            "image/png": "[encoded data removed]",
            "text/plain": [
              "<Figure size 640x480 with 1 Axes>"
            ]
          },
          "metadata": {},
          "output_type": "display_data"
        }
      ],
      "source": [
        "import matplotlib.pyplot as plt\n",
        "import matplotlib.ticker as ticker\n",
        "\n",
        "plt.figure()\n",
        "plt.plot(all_losses)"
      ]
    },
    {
      "cell_type": "markdown",
      "metadata": {
        "id": "CT1X5lsWWa0V"
      },
      "source": [
        "## Avaliando os resultados\n",
        "\n",
        "Para ver o desempenho da rede em diferentes categorias, iremos\n",
        "criar uma matriz de confusão, indicando para cada autor real (linhas)\n",
        "qual autor a rede adivinha (colunas). .\n",
        "\n",
        "\n"
      ]
    },
    {
      "cell_type": "code",
      "execution_count": 445,
      "metadata": {
        "colab": {
          "base_uri": "https://localhost:8080/",
          "height": 677
        },
        "id": "4oiZobZwM4_z",
        "outputId": "92ddca30-16a9-412f-ae7e-b74d53bc74f7"
      },
      "outputs": [
        {
          "data": {
            "image/png": "[encoded data removed]",
            "text/plain": [
              "<Figure size 800x600 with 2 Axes>"
            ]
          },
          "metadata": {},
          "output_type": "display_data"
        }
      ],
      "source": [
        "import matplotlib.pyplot as plt\n",
        "import seaborn as sns\n",
        "from sklearn.metrics import confusion_matrix\n",
        "\n",
        "cm = confusion_matrix(CorrectOutput, PredictionOutput)\n",
        "\n",
        "classes = all_categories  # Substitua pelas suas classes\n",
        "\n",
        "# Cria um gráfico de matriz de confusão\n",
        "plt.figure(figsize=(8, 6))  # Define o tamanho do gráfico\n",
        "sns.heatmap(cm, annot=True, fmt='d', cmap='Blues', xticklabels=classes, yticklabels=classes)\n",
        "plt.xlabel('Classe Prevista')\n",
        "plt.ylabel('Classe Real')\n",
        "plt.title('Matriz de Confusão')\n",
        "plt.show()"
      ]
    },
    {
      "cell_type": "markdown",
      "metadata": {},
      "source": [
        "Podemos vizualizar um resultado satisfatório para os personagens criados por Dostoiévski, a razão disso pode ser as peculiaridades da língua russa, essa hipótese é reforçada quando vimos que Tolstoy também teve o mesmo resultado positivo em relação aos demais autores."
      ]
    },
    {
      "cell_type": "markdown",
      "metadata": {
        "id": "K9obojM-Wa0W"
      },
      "source": [
        "### Rodando na entrada do usuário\n",
        "\n",
        "\n"
      ]
    },
    {
      "cell_type": "code",
      "execution_count": 447,
      "metadata": {
        "colab": {
          "base_uri": "https://localhost:8080/"
        },
        "id": "LZeNZj52Wa0W",
        "outputId": "6b244f05-0988-4180-cb4d-e85ebe7dd62e"
      },
      "outputs": [
        {
          "name": "stdout",
          "output_type": "stream",
          "text": [
            "\n",
            "> Digory\n",
            "(-0.80) J.K. Rowling\n",
            "(-1.92) Agatha Christie\n",
            "(-2.02) C.S. Lewis\n",
            "\n",
            "> Mordor\n",
            "(-1.31) J.R.R. Tolkien\n",
            "(-1.45) Agatha Christie\n",
            "(-1.63) George Orwell\n",
            "\n",
            "> Ielena\n",
            "(-0.61) Leo Tolstoy\n",
            "(-1.34) George Orwell\n",
            "(-2.66) Jane Austen\n"
          ]
        }
      ],
      "source": [
        "def predict(input_line, n_predictions=3):\n",
        "    print('\\n> %s' % input_line)\n",
        "    with torch.no_grad():\n",
        "        output = evaluate(lineToTensor(input_line))\n",
        "\n",
        "        # Get top N categories\n",
        "        topv, topi = output.topk(n_predictions, 1, True)\n",
        "        predictions = []\n",
        "\n",
        "        for i in range(n_predictions):\n",
        "            value = topv[0][i].item()\n",
        "            category_index = topi[0][i].item()\n",
        "            print('(%.2f) %s' % (value, all_categories[category_index]))\n",
        "            predictions.append([value, all_categories[category_index]])\n",
        "\n",
        "predict('Digory')\n",
        "predict('Mordor')\n",
        "predict('Ielena')"
      ]
    }
  ],
  "metadata": {
    "colab": {
      "provenance": []
    },
    "kernelspec": {
      "display_name": "Python 3",
      "language": "python",
      "name": "python3"
    },
    "language_info": {
      "codemirror_mode": {
        "name": "ipython",
        "version": 3
      },
      "file_extension": ".py",
      "mimetype": "text/x-python",
      "name": "python",
      "nbconvert_exporter": "python",
      "pygments_lexer": "ipython3",
      "version": "3.10.12"
    }
  },
  "nbformat": 4,
  "nbformat_minor": 0
}
